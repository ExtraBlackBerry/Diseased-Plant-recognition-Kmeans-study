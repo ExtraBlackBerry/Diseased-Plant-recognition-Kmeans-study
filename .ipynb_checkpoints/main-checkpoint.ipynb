{
 "cells": [
  {
   "cell_type": "code",
   "execution_count": 1,
   "id": "d0bd1afa-9be5-4013-8485-abdb8ef39036",
   "metadata": {},
   "outputs": [],
   "source": [
    "import pandas as pd\n",
    "import matplotlib as plt\n",
    "import numpy as np\n",
    "import cv2"
   ]
  },
  {
   "cell_type": "code",
   "execution_count": null,
   "id": "d1dc5395-a97c-4c19-9a2b-2f9735b665ae",
   "metadata": {},
   "outputs": [],
   "source": [
    "_dataset_t1 = \"Dataset/Task1-A1-Dataset.csv\"\n",
    "df = pd.open_csv(_dataset_t1)"
   ]
  },
  {
   "cell_type": "code",
   "execution_count": null,
   "id": "c7d1ae11-db69-4734-bcdb-d75734e8b9d8",
   "metadata": {},
   "outputs": [],
   "source": []
  }
 ],
 "metadata": {
  "kernelspec": {
   "display_name": "Python 3 (ipykernel)",
   "language": "python",
   "name": "python3"
  },
  "language_info": {
   "codemirror_mode": {
    "name": "ipython",
    "version": 3
   },
   "file_extension": ".py",
   "mimetype": "text/x-python",
   "name": "python",
   "nbconvert_exporter": "python",
   "pygments_lexer": "ipython3",
   "version": "3.12.10"
  }
 },
 "nbformat": 4,
 "nbformat_minor": 5
}
